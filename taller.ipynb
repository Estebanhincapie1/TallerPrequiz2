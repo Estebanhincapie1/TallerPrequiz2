{
 "cells": [
  {
   "cell_type": "markdown",
   "metadata": {},
   "source": [
    "1- Crear una matriz de Numpyaleatoria de 4dimensiones y un sizede 1200000 "
   ]
  },
  {
   "cell_type": "code",
   "execution_count": 1,
   "metadata": {},
   "outputs": [],
   "source": [
    "import numpy as np\n",
    "from numpy import random\n",
    "\n",
    "matriz= random.randint(20,250,1200000)\n",
    "matriz1 = matriz.reshape(20,250,30,8)\n"
   ]
  },
  {
   "cell_type": "markdown",
   "metadata": {},
   "source": [
    "Crea una copia de la matriz creada en el ítem anterior(usar método copy)de solo 3 dimensiones (“Cortando una de las dimensiones”)"
   ]
  },
  {
   "cell_type": "code",
   "execution_count": 15,
   "metadata": {},
   "outputs": [
    {
     "data": {
      "text/plain": [
       "(20, 250, 8)"
      ]
     },
     "execution_count": 15,
     "metadata": {},
     "output_type": "execute_result"
    }
   ],
   "source": [
    "matrizCopiada = np.copy(matriz1[:,:,0,:]) # Segun esto coge cada primera matriz de cada cubo (4 dim ) y las pega hacia atras, como submatrices\n",
    "matrizCopiada.shape"
   ]
  },
  {
   "cell_type": "markdown",
   "metadata": {},
   "source": [
    "De lamatriz 3D, muestra todos los atributos propios de dicha matriz , dimensión, tamaño, etc.."
   ]
  },
  {
   "cell_type": "code",
   "execution_count": 18,
   "metadata": {},
   "outputs": [
    {
     "name": "stdout",
     "output_type": "stream",
     "text": [
      "Tamaño de la matriz: 40000\n",
      "Forma de la matriz: (20, 250, 8)\n",
      "Dimensiones: 3\n",
      "Datos de tipo: int32\n",
      "Espacio de almacenamiento en bytes: 160000\n"
     ]
    }
   ],
   "source": [
    "print(\"Tamaño de la matriz:\", matrizCopiada.size)\n",
    "print('Forma de la matriz:',matrizCopiada.shape)\n",
    "print('Dimensiones:',matrizCopiada.ndim)\n",
    "print('Datos de tipo:', matrizCopiada.dtype)\n",
    "print('Espacio de almacenamiento en bytes:', matrizCopiada.nbytes)"
   ]
  },
  {
   "cell_type": "markdown",
   "metadata": {},
   "source": [
    "Modificar su forma y pasarla a 2D"
   ]
  },
  {
   "cell_type": "code",
   "execution_count": 20,
   "metadata": {},
   "outputs": [
    {
     "name": "stdout",
     "output_type": "stream",
     "text": [
      "(20, 2000)\n"
     ]
    }
   ],
   "source": [
    "matrizModificada = matrizCopiada.reshape(20,250*8)\n",
    "print(matrizModificada.shape)\n"
   ]
  },
  {
   "cell_type": "markdown",
   "metadata": {},
   "source": [
    "Crea una función que reciba la matriz anterior y la pase a un objeto tipo dataframe de Pandas"
   ]
  },
  {
   "cell_type": "code",
   "execution_count": null,
   "metadata": {},
   "outputs": [],
   "source": [
    "def matriz_a_dataframe(objeto):\n",
    "    import pandas as pd\n",
    "    df = pd.DataFrame(objeto, index =  np.arange(objeto.shape[0]))\n",
    "    return df\n",
    "matriz_a_dataframe(matrizModificada)"
   ]
  },
  {
   "cell_type": "markdown",
   "metadata": {},
   "source": [
    "Crear una función que permita cargar un archivo.mat y .csv "
   ]
  },
  {
   "cell_type": "code",
   "execution_count": 37,
   "metadata": {},
   "outputs": [],
   "source": [
    "def cargarArchivo():\n",
    "    import scipy as sp\n",
    "    while True:        \n",
    "        a = input('SELECCIONE EL TIPO DE ARCHIVO\\n1-mat\\n2-CSV\\n')\n",
    "        if a == '1':\n",
    "            r = input('INGRESE LA RUTA DEL ARCHIVO: ')\n",
    "            return sp.loadmat(r)\n",
    "        elif a == '2':\n",
    "            r\n",
    "            return sp.loadcsv(r)\n",
    "        else:\n",
    "            print('---------INGRESE UNA OPCION VALIDA--------')\n",
    "            continue\n",
    "\n",
    "cargarArchivo()\n",
    "    "
   ]
  }
 ],
 "metadata": {
  "kernelspec": {
   "display_name": "base",
   "language": "python",
   "name": "python3"
  },
  "language_info": {
   "codemirror_mode": {
    "name": "ipython",
    "version": 3
   },
   "file_extension": ".py",
   "mimetype": "text/x-python",
   "name": "python",
   "nbconvert_exporter": "python",
   "pygments_lexer": "ipython3",
   "version": "3.11.4"
  }
 },
 "nbformat": 4,
 "nbformat_minor": 2
}
